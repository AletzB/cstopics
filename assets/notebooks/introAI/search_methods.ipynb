{
 "cells": [
  {
   "cell_type": "code",
   "execution_count": 12,
   "metadata": {
    "collapsed": false
   },
   "outputs": [],
   "source": [
    "import util\n",
    "import search"
   ]
  },
  {
   "cell_type": "code",
   "execution_count": 26,
   "metadata": {},
   "outputs": [],
   "source": [
    "# Libraries and code for graph and tree visualization\n",
    "from graphviz import Graph, Digraph\n",
    "from IPython.display import display\n",
    "\n",
    "class search_tree():\n",
    "    def __init__(self):\n",
    "        self.graph = Digraph(graph_attr = {'size':'9'})\n",
    "        \n",
    "    def addNode(self, name, label):\n",
    "        self.graph.node(name, label)\n",
    "\n",
    "    def addEdge(self, source, action, target):\n",
    "        self.graph.edge(source, target, action)\n",
    "    \n",
    "    def getDot(self):\n",
    "        return self.graph\n",
    "    \n",
    "def graphDot(g_prob, color):\n",
    "    #dot = Graph(graph_attr = {'size':'3.5'})\n",
    "    dot = Digraph('hola')\n",
    "    dot.attr(rankdir='LR', size='8,5')\n",
    "    for node in g_prob.G:\n",
    "        if not node in color:\n",
    "            dot.node(node)\n",
    "        else:\n",
    "            dot.node(node, style = 'filled', color = color[node])\n",
    "    for n1 in g_prob.G:\n",
    "        for n2 in g_prob.G[n1]:\n",
    "            dot.edge(n1, n2)            \n",
    "    return dot"
   ]
  },
  {
   "cell_type": "code",
   "execution_count": 20,
   "metadata": {},
   "outputs": [],
   "source": [
    "class graph_problem(search.SearchProblem):\n",
    "    def __init__(self, vertices, edges):\n",
    "        self.G = {v:{} for v in vertices}\n",
    "        for v1, v2, c in edges1:\n",
    "            (self.G[v1])[v2] = c\n",
    "            #(self.G[v2])[v1] = c\n",
    "        self.start = vertices[0]\n",
    "        self.goal = vertices[-1]\n",
    "        \n",
    "    def getStartState(self):\n",
    "        return self.start\n",
    "\n",
    "    def isGoalState(self, state):\n",
    "        return self.goal == state\n",
    "\n",
    "    def getSuccessors(self, state):\n",
    "        successors = [(suc, state + '->' + suc, \n",
    "                       (self.G[state])[suc]) for suc in self.G[state]]\n",
    "        return successors"
   ]
  },
  {
   "cell_type": "code",
   "execution_count": 22,
   "metadata": {},
   "outputs": [
    {
     "name": "stdout",
     "output_type": "stream",
     "text": [
      "{'G': {}, 'S': {'r': 1, 'w': 1}, 'r': {'v': 1}, 'u': {'G': 1}, 't': {'x': 1, 'u': 1}, 'w': {'x': 1, 't': 1}, 'v': {}, 'x': {'G': 1}}\n{'x': 1, 't': 1}\nS\nFalse\n\nSpace-State graph\n"
     ]
    },
    {
     "data": {
      "text/plain": [
       "<graphviz.dot.Digraph at 0x7eff80359790>"
      ]
     },
     "execution_count": 0,
     "metadata": {},
     "output_type": "execute_result"
    }
   ],
   "source": [
    "edges1 = [('S','r',1), ('S','w',1), ('r','v',1), ('w','t',1), ('w','x',1), ('t','u',1), ('t','x',1), ('x','G',1), ('u','G',1)]\n",
    "vertices1 = ['S', 'r', 't', 'u', 'v', 'w', 'x', 'G'] \n",
    "problem1 = graph_problem(vertices1, edges1)\n",
    "print problem1.G\n",
    "print problem1.G['w']\n",
    "print problem1.getStartState()\n",
    "print problem1.isGoalState('y')\n",
    "dot = graphDot(problem1, {})\n",
    "print \"\\nSpace-State graph\"\n",
    "display(dot)"
   ]
  },
  {
   "cell_type": "code",
   "execution_count": 28,
   "metadata": {},
   "outputs": [],
   "source": [
    "def general_ui_search(problem, frontier):\n",
    "    visited = {}\n",
    "    tree = search_tree()\n",
    "    state = problem.getStartState()\n",
    "    frontier.push((state, []))\n",
    "    visited[state] = 'gray'\n",
    "    while not frontier.isEmpty():\n",
    "        u, actions = frontier.pop()\n",
    "#        print 'Pop:', u \n",
    "        if problem.isGoalState(u):            \n",
    "            return  actions, tree\n",
    "        print \"\\nExpanding parent node \"+u\n",
    "        for v, action, cost in problem.getSuccessors(u):\n",
    "            if not v in visited:\n",
    "                tree.addEdge(str(u), action, str(v))                \n",
    "                frontier.push((v, actions + [action]))\n",
    "        # display(graphDot(problem, visited))\n",
    "        display(tree.getDot())\n",
    "        visited[u] = 'black'\n",
    "    return [], tree"
   ]
  },
  {
   "cell_type": "code",
   "execution_count": 11,
   "metadata": {},
   "outputs": [],
   "source": [
    "def dfs(problem):\n",
    "   return general_ui_search(problem, util.Stack())"
   ]
  },
  {
   "cell_type": "code",
   "execution_count": null,
   "metadata": {},
   "outputs": [],
   "source": [
    "actions, tree = dfs(problem1)\n",
    "print \"Path to goal found: \"\n",
    "print actions\n",
    "#display(tree.getDot())"
   ]
  }
 ],
 "metadata": {
  "kernelspec": {
   "display_name": "Python 2",
   "language": "python",
   "name": "python2"
  },
  "language_info": {
   "codemirror_mode": {
    "name": "ipython",
    "version": 2
   },
   "file_extension": ".py",
   "mimetype": "text/x-python",
   "name": "python",
   "nbconvert_exporter": "python",
   "pygments_lexer": "ipython2",
   "version": "2.7.6"
  }
 },
 "nbformat": 4,
 "nbformat_minor": 0
}
