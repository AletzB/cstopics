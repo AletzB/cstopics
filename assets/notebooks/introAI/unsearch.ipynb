{
 "cells": [
  {
   "cell_type": "code",
   "execution_count": 11,
   "metadata": {},
   "outputs": [],
   "source": [
    "import util\n",
    "import search"
   ]
  },
  {
   "cell_type": "code",
   "execution_count": 12,
   "metadata": {},
   "outputs": [],
   "source": [
    "# Libraries and code for graph and tree visualization\n",
    "from graphviz import Graph, Digraph\n",
    "from IPython.display import display\n",
    "\n",
    "class search_tree():\n",
    "    def __init__(self):\n",
    "        self.graph = Digraph(graph_attr = {'size':'9'})\n",
    "        \n",
    "    def addNode(self, name, label):\n",
    "        self.graph.node(name, label)\n",
    "\n",
    "    def addEdge(self, source, action, target):\n",
    "        self.graph.edge(source, target, action)\n",
    "    \n",
    "    def getDot(self):\n",
    "        return self.graph\n",
    "    \n",
    "def graphDot(g_prob, color):\n",
    "    #dot = Graph(graph_attr = {'size':'3.5'})\n",
    "    dot = Digraph('hola')\n",
    "    dot.attr(rankdir='LR', size='8,5')\n",
    "    for node in g_prob.G:\n",
    "        if not node in color:\n",
    "            dot.node(node)\n",
    "        else:\n",
    "            dot.node(node, style = 'filled', color = color[node])\n",
    "    for n1 in g_prob.G:\n",
    "        for n2 in g_prob.G[n1]:\n",
    "            dot.edge(n1, n2, label=str(g_prob.G[n1][n2]))            \n",
    "    return dot"
   ]
  },
  {
   "cell_type": "markdown",
   "metadata": {},
   "source": [
    "# Uniformed Search\n",
    "## A search problem"
   ]
  },
  {
   "cell_type": "code",
   "execution_count": 13,
   "metadata": {},
   "outputs": [],
   "source": [
    "class graph_problem(search.SearchProblem):\n",
    "    def __init__(self, vertices, edges):\n",
    "        self.G = {v:{} for v in vertices}\n",
    "        for v1, v2, c in edges1:\n",
    "            (self.G[v1])[v2] = c\n",
    "            #(self.G[v2])[v1] = c\n",
    "        self.start = vertices[0]\n",
    "        self.goal = vertices[-1]\n",
    "        \n",
    "    def getStartState(self):\n",
    "        return self.start\n",
    "\n",
    "    def isGoalState(self, state):\n",
    "        return self.goal == state\n",
    "\n",
    "    def getSuccessors(self, state):\n",
    "        successors = [(suc, state + '->' + suc, \n",
    "                       (self.G[state])[suc]) for suc in self.G[state]]\n",
    "        return successors"
   ]
  },
  {
   "cell_type": "code",
   "execution_count": 14,
   "metadata": {},
   "outputs": [
    {
     "name": "stdout",
     "output_type": "stream",
     "text": [
      "{'G': {}, 'S': {'r': 1, 'w': 1}, 'r': {'v': 1}, 'u': {'G': 1}, 't': {'x': 1, 'u': 1}, 'w': {'x': 1, 't': 1}, 'v': {}, 'x': {'G': 1}}\n{'x': 1, 't': 1}\nS\nFalse\n\nSpace-State graph\n"
     ]
    },
    {
     "data": {
      "text/plain": [
       "<graphviz.dot.Digraph at 0x7f3b9f657e50>"
      ]
     },
     "execution_count": 0,
     "metadata": {},
     "output_type": "execute_result"
    }
   ],
   "source": [
    "edges1 = [('S','r',1), ('S','w',1), ('r','v',1), ('w','t',1), ('w','x',1), ('t','u',1), ('t','x',1), ('x','G',1), ('u','G',1)]\n",
    "vertices1 = ['S', 'r', 't', 'u', 'v', 'w', 'x', 'G'] \n",
    "problem1 = graph_problem(vertices1, edges1)\n",
    "print problem1.G\n",
    "print problem1.G['w']\n",
    "print problem1.getStartState()\n",
    "print problem1.isGoalState('y')\n",
    "dot = graphDot(problem1, {})\n",
    "print \"\\nSpace-State graph\"\n",
    "display(dot)"
   ]
  },
  {
   "cell_type": "markdown",
   "metadata": {},
   "source": [
    "## General graph search"
   ]
  },
  {
   "cell_type": "code",
   "execution_count": 26,
   "metadata": {},
   "outputs": [],
   "source": [
    "def general_ui_search(problem, frontier):\n",
    "    visited = {}\n",
    "    tree = search_tree()\n",
    "    state = problem.getStartState()\n",
    "    frontier.push((state, []))\n",
    "    visited[state] = 'gray'\n",
    "    while not frontier.isEmpty():\n",
    "        u, actions = frontier.pop()\n",
    "#        print 'Pop:', u \n",
    "        if problem.isGoalState(u):            \n",
    "            return  actions, tree\n",
    "       \n",
    "        for v, action, cost in problem.getSuccessors(u):\n",
    "            if not v in visited:\n",
    "                tree.addEdge(str(u), action, str(v))                \n",
    "                frontier.push((v, actions + [action]))\n",
    "        # display(graphDot(problem, visited))\n",
    "        print \"\\nExpanding parent node \"+u\n",
    "        print \"Fringe: \"+ str([frontier.__dict__['list'][x][0] for x in range(len(frontier.__dict__['list']))])\n",
    "        display(tree.getDot())\n",
    "        visited[u] = 'black'\n",
    "    return [], tree"
   ]
  },
  {
   "cell_type": "markdown",
   "metadata": {},
   "source": [
    "## Depth-first search"
   ]
  },
  {
   "cell_type": "code",
   "execution_count": 16,
   "metadata": {},
   "outputs": [],
   "source": [
    "def dfs(problem):\n",
    "   return general_ui_search(problem, util.Stack())"
   ]
  },
  {
   "cell_type": "code",
   "execution_count": 17,
   "metadata": {},
   "outputs": [
    {
     "name": "stdout",
     "output_type": "stream",
     "text": [
      "\nExpanding parent node S\nFringe: []\n"
     ]
    },
    {
     "data": {
      "text/plain": [
       "<graphviz.dot.Digraph at 0x7f3b98070f90>"
      ]
     },
     "execution_count": 0,
     "metadata": {},
     "output_type": "execute_result"
    },
    {
     "name": "stdout",
     "output_type": "stream",
     "text": [
      "\nExpanding parent node w\nFringe: ['r']\n"
     ]
    },
    {
     "data": {
      "text/plain": [
       "<graphviz.dot.Digraph at 0x7f3b98070f90>"
      ]
     },
     "execution_count": 0,
     "metadata": {},
     "output_type": "execute_result"
    },
    {
     "name": "stdout",
     "output_type": "stream",
     "text": [
      "\nExpanding parent node t\nFringe: ['r', 'x']\n"
     ]
    },
    {
     "data": {
      "text/plain": [
       "<graphviz.dot.Digraph at 0x7f3b98070f90>"
      ]
     },
     "execution_count": 0,
     "metadata": {},
     "output_type": "execute_result"
    },
    {
     "name": "stdout",
     "output_type": "stream",
     "text": [
      "\nExpanding parent node u\nFringe: ['r', 'x', 'x']\n"
     ]
    },
    {
     "data": {
      "text/plain": [
       "<graphviz.dot.Digraph at 0x7f3b98070f90>"
      ]
     },
     "execution_count": 0,
     "metadata": {},
     "output_type": "execute_result"
    },
    {
     "name": "stdout",
     "output_type": "stream",
     "text": [
      "Path to goal found: \n['S->w', 'w->t', 't->u', 'u->G']\n"
     ]
    }
   ],
   "source": [
    "actions, tree = dfs(problem1)\n",
    "print \"Path to goal found: \"\n",
    "print actions\n",
    "#display(tree.getDot())"
   ]
  },
  {
   "cell_type": "markdown",
   "metadata": {},
   "source": [
    "## Breath-first Search"
   ]
  },
  {
   "cell_type": "code",
   "execution_count": 18,
   "metadata": {},
   "outputs": [],
   "source": [
    "def bfs(problem):\n",
    "   return general_ui_search(problem, util.Queue())"
   ]
  },
  {
   "cell_type": "code",
   "execution_count": 19,
   "metadata": {},
   "outputs": [
    {
     "name": "stdout",
     "output_type": "stream",
     "text": [
      "\nExpanding parent node S\nFringe: []\n"
     ]
    },
    {
     "data": {
      "text/plain": [
       "<graphviz.dot.Digraph at 0x7f3b9807f6d0>"
      ]
     },
     "execution_count": 0,
     "metadata": {},
     "output_type": "execute_result"
    },
    {
     "name": "stdout",
     "output_type": "stream",
     "text": [
      "\nExpanding parent node r\nFringe: ['w']\n"
     ]
    },
    {
     "data": {
      "text/plain": [
       "<graphviz.dot.Digraph at 0x7f3b9807f6d0>"
      ]
     },
     "execution_count": 0,
     "metadata": {},
     "output_type": "execute_result"
    },
    {
     "name": "stdout",
     "output_type": "stream",
     "text": [
      "\nExpanding parent node w\nFringe: ['v']\n"
     ]
    },
    {
     "data": {
      "text/plain": [
       "<graphviz.dot.Digraph at 0x7f3b9807f6d0>"
      ]
     },
     "execution_count": 0,
     "metadata": {},
     "output_type": "execute_result"
    },
    {
     "name": "stdout",
     "output_type": "stream",
     "text": [
      "\nExpanding parent node v\nFringe: ['t', 'x']\n"
     ]
    },
    {
     "data": {
      "text/plain": [
       "<graphviz.dot.Digraph at 0x7f3b9807f6d0>"
      ]
     },
     "execution_count": 0,
     "metadata": {},
     "output_type": "execute_result"
    },
    {
     "name": "stdout",
     "output_type": "stream",
     "text": [
      "\nExpanding parent node x\nFringe: ['t']\n"
     ]
    },
    {
     "data": {
      "text/plain": [
       "<graphviz.dot.Digraph at 0x7f3b9807f6d0>"
      ]
     },
     "execution_count": 0,
     "metadata": {},
     "output_type": "execute_result"
    },
    {
     "name": "stdout",
     "output_type": "stream",
     "text": [
      "\nExpanding parent node t\nFringe: ['G']\n"
     ]
    },
    {
     "data": {
      "text/plain": [
       "<graphviz.dot.Digraph at 0x7f3b9807f6d0>"
      ]
     },
     "execution_count": 0,
     "metadata": {},
     "output_type": "execute_result"
    },
    {
     "name": "stdout",
     "output_type": "stream",
     "text": [
      "['S->w', 'w->x', 'x->G']\n"
     ]
    },
    {
     "data": {
      "text/plain": [
       "<graphviz.dot.Digraph at 0x7f3b9807f6d0>"
      ]
     },
     "execution_count": 0,
     "metadata": {},
     "output_type": "execute_result"
    }
   ],
   "source": [
    "actions1, tree1 = bfs(problem1)\n",
    "print actions1\n",
    "display(tree1.getDot())"
   ]
  },
  {
   "cell_type": "markdown",
   "metadata": {},
   "source": [
    "## Uniform cost search"
   ]
  },
  {
   "cell_type": "code",
   "execution_count": 20,
   "metadata": {},
   "outputs": [
    {
     "name": "stdout",
     "output_type": "stream",
     "text": [
      "\nSpace-State graph\n"
     ]
    },
    {
     "data": {
      "text/plain": [
       "<graphviz.dot.Digraph at 0x7f3b980841d0>"
      ]
     },
     "execution_count": 0,
     "metadata": {},
     "output_type": "execute_result"
    }
   ],
   "source": [
    "edges1 = [('S','d',3), ('S','e',9), ('S','p',1), ('d','b',1), ('d','c',8), ('b','a',2), ('c','a',2), ('d','e',2), ('e','h',8), ('h','p',5), ('h','q',3), \n",
    "          ('p','q',15), ('e','r',2), ('r','f',1), ('f','G',2)]\n",
    "vertices1 = ['S', 'd', 'p', 'q', 'h', 'e', 'b', 'c', 'a', 'r', 'f', 'G'] \n",
    "problem1 = graph_problem(vertices1, edges1)\n",
    "dot = graphDot(problem1, {})\n",
    "print \"\\nSpace-State graph\"\n",
    "display(dot)"
   ]
  },
  {
   "cell_type": "code",
   "execution_count": 25,
   "metadata": {},
   "outputs": [],
   "source": [
    "def general_search(problem, frontier):\n",
    "    visited = {}\n",
    "    state = problem.getStartState()\n",
    "    frontier.push((state, [], 0))\n",
    "    tree = search_tree()\n",
    "    tree.addNode(str(state)+\"[]\",str(state))\n",
    "    while not frontier.isEmpty():\n",
    "        u, actions, path_cost = frontier.pop()\n",
    "        if problem.isGoalState(u):\n",
    "            return  actions, tree\n",
    "        if not u in visited:            \n",
    "            for v, action, cost in problem.getSuccessors(u):\n",
    "                tree.addNode(str(v) + str(actions+[action]), str(v))\n",
    "                tree.addEdge(str(u) + str(actions), str(cost), str(v) + str(actions+[action]))\n",
    "                frontier.push((v, actions + [action], path_cost + cost))\n",
    "            print \"\\nExpanding parent node \"+u\n",
    "            print \"Fringe: \"+ str([frontier.__dict__['heap'][x][2][0] for x in range(len(frontier.__dict__['heap']))])\n",
    "            display(tree.getDot())\n",
    "        visited[u] = 'black'\n",
    "    return [], tree\n",
    "\n",
    "def uniformCostSearch(problem):\n",
    "    def g_cost(item):\n",
    "        return item[2]\n",
    "    return general_search(problem, util.PriorityQueueWithFunction(g_cost))"
   ]
  },
  {
   "cell_type": "code",
   "execution_count": 22,
   "metadata": {},
   "outputs": [
    {
     "name": "stdout",
     "output_type": "stream",
     "text": [
      "\nExpanding parent node S\nFringe: []\n"
     ]
    },
    {
     "data": {
      "text/plain": [
       "<graphviz.dot.Digraph at 0x7f3b9807f850>"
      ]
     },
     "execution_count": 0,
     "metadata": {},
     "output_type": "execute_result"
    },
    {
     "name": "stdout",
     "output_type": "stream",
     "text": [
      "\nExpanding parent node p\nFringe: [3, 9]\n"
     ]
    },
    {
     "data": {
      "text/plain": [
       "<graphviz.dot.Digraph at 0x7f3b9807f850>"
      ]
     },
     "execution_count": 0,
     "metadata": {},
     "output_type": "execute_result"
    },
    {
     "name": "stdout",
     "output_type": "stream",
     "text": [
      "\nExpanding parent node d\nFringe: [9, 16]\n"
     ]
    },
    {
     "data": {
      "text/plain": [
       "<graphviz.dot.Digraph at 0x7f3b9807f850>"
      ]
     },
     "execution_count": 0,
     "metadata": {},
     "output_type": "execute_result"
    },
    {
     "name": "stdout",
     "output_type": "stream",
     "text": [
      "\nExpanding parent node b\nFringe: [5, 9, 11, 16]\n"
     ]
    },
    {
     "data": {
      "text/plain": [
       "<graphviz.dot.Digraph at 0x7f3b9807f850>"
      ]
     },
     "execution_count": 0,
     "metadata": {},
     "output_type": "execute_result"
    },
    {
     "name": "stdout",
     "output_type": "stream",
     "text": [
      "\nExpanding parent node e\nFringe: [6, 9, 11, 16]\n"
     ]
    },
    {
     "data": {
      "text/plain": [
       "<graphviz.dot.Digraph at 0x7f3b9807f850>"
      ]
     },
     "execution_count": 0,
     "metadata": {},
     "output_type": "execute_result"
    },
    {
     "name": "stdout",
     "output_type": "stream",
     "text": [
      "\nExpanding parent node a\nFringe: [7, 9, 11, 16, 13]\n"
     ]
    },
    {
     "data": {
      "text/plain": [
       "<graphviz.dot.Digraph at 0x7f3b9807f850>"
      ]
     },
     "execution_count": 0,
     "metadata": {},
     "output_type": "execute_result"
    },
    {
     "name": "stdout",
     "output_type": "stream",
     "text": [
      "\nExpanding parent node r\nFringe: [9, 13, 11, 16]\n"
     ]
    },
    {
     "data": {
      "text/plain": [
       "<graphviz.dot.Digraph at 0x7f3b9807f850>"
      ]
     },
     "execution_count": 0,
     "metadata": {},
     "output_type": "execute_result"
    },
    {
     "name": "stdout",
     "output_type": "stream",
     "text": [
      "\nExpanding parent node f\nFringe: [9, 13, 11, 16]\n"
     ]
    },
    {
     "data": {
      "text/plain": [
       "<graphviz.dot.Digraph at 0x7f3b9807f850>"
      ]
     },
     "execution_count": 0,
     "metadata": {},
     "output_type": "execute_result"
    },
    {
     "name": "stdout",
     "output_type": "stream",
     "text": [
      "['S->d', 'd->e', 'e->r', 'r->f', 'f->G']\n"
     ]
    },
    {
     "data": {
      "text/plain": [
       "<graphviz.dot.Digraph at 0x7f3b9807f850>"
      ]
     },
     "execution_count": 0,
     "metadata": {},
     "output_type": "execute_result"
    }
   ],
   "source": [
    "actions2, tree2 = uniformCostSearch(problem1)\n",
    "print actions2\n",
    "display(tree2.getDot())"
   ]
  },
  {
   "cell_type": "code",
   "execution_count": 23,
   "metadata": {},
   "outputs": [],
   "source": []
  },
  {
   "cell_type": "code",
   "execution_count": null,
   "metadata": {},
   "outputs": [],
   "source": []
  }
 ],
 "metadata": {
  "kernelspec": {
   "display_name": "Python 2",
   "language": "python",
   "name": "python2"
  },
  "language_info": {
   "codemirror_mode": {
    "name": "ipython",
    "version": 2
   },
   "file_extension": ".py",
   "mimetype": "text/x-python",
   "name": "python",
   "nbconvert_exporter": "python",
   "pygments_lexer": "ipython2",
   "version": "2.7.15rc1"
  }
 },
 "nbformat": 4,
 "nbformat_minor": 1
}
