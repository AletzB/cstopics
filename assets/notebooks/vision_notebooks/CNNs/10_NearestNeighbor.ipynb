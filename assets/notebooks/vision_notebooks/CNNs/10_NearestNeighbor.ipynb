{
 "cells": [
  {
   "cell_type": "code",
   "execution_count": 1,
   "metadata": {},
   "outputs": [],
   "source": [
    "import numpy as np\n",
    "import data_utils"
   ]
  },
  {
   "cell_type": "markdown",
   "metadata": {},
   "source": [
    "## Nearest Neighbor Classifier\n",
    "\n",
    "Firs of all, you need to download the dataset:\n",
    "\n",
    "``` bash \n",
    "$ wget http://www.cs.toronto.edu/~kriz/cifar-10-python.tar.gz -P /tmp\n",
    "$ tar -xzvf /tmp/cifar-10-python.tar.gz -C /tmp\n",
    "```\n",
    "\n",
    "Load dataset:"
   ]
  },
  {
   "cell_type": "code",
   "execution_count": 2,
   "metadata": {},
   "outputs": [],
   "source": [
    "Xtr, Ytr, Xte, Yte = data_utils.load_CIFAR10('/tmp/cifar-10-batches-py/')"
   ]
  },
  {
   "cell_type": "markdown",
   "metadata": {},
   "source": [
    "Where:\n",
    "* $Xtr$ is the training set (50000 32x32x3 matrices).\n",
    "* $Ytr$ is the training labels (50000 numbers).\n",
    "* $Xte$ is the test set (10000 32x32x3 matrices).\n",
    "* $Yte$ is the test labels (10000 numbers)."
   ]
  },
  {
   "cell_type": "code",
   "execution_count": 3,
   "metadata": {},
   "outputs": [
    {
     "name": "stdout",
     "output_type": "stream",
     "text": [
      "Training set shape:  (50000, 32, 32, 3)\n",
      "Training labels shape:  (50000,)\n",
      "Test set shape:  (10000, 32, 32, 3)\n",
      "Test set shape:  (10000,)\n"
     ]
    }
   ],
   "source": [
    "print('Training set shape: ', Xtr.shape)\n",
    "print('Training labels shape: ', Ytr.shape)\n",
    "print('Test set shape: ', Xte.shape)\n",
    "print('Test set shape: ', Yte.shape)"
   ]
  },
  {
   "cell_type": "markdown",
   "metadata": {},
   "source": [
    "Flatten out all images to be one-dimensional:"
   ]
  },
  {
   "cell_type": "code",
   "execution_count": 4,
   "metadata": {},
   "outputs": [
    {
     "name": "stdout",
     "output_type": "stream",
     "text": [
      "Training set shape:  (50000, 3072)\n",
      "Test set shape:  (10000, 3072)\n"
     ]
    }
   ],
   "source": [
    "Xtr_rows = Xtr.reshape(Xtr.shape[0], 32 * 32 * 3)\n",
    "Xte_rows = Xte.reshape(Xte.shape[0], 32 * 32 * 3)\n",
    "print('Training set shape: ', Xtr_rows.shape)\n",
    "print('Test set shape: ', Xte_rows.shape)"
   ]
  },
  {
   "cell_type": "markdown",
   "metadata": {},
   "source": [
    "Define our classifier:"
   ]
  },
  {
   "cell_type": "code",
   "execution_count": 5,
   "metadata": {},
   "outputs": [],
   "source": [
    "class NearestNeighbor(object):\n",
    "  def __init__(self):\n",
    "    pass\n",
    "\n",
    "  def train(self, X, y):\n",
    "    \"\"\" X is N x D where each row is an example. Y is 1-dimension of size N \"\"\"\n",
    "    # the nearest neighbor classifier simply remembers all the training data\n",
    "    self.Xtr = X\n",
    "    self.ytr = y\n",
    "\n",
    "  def predict(self, X, T):\n",
    "    \"\"\" X is N x D where each row is an example we wish to predict label for, T is 'L1' or 'L2' distance\"\"\"\n",
    "    num_test = X.shape[0]\n",
    "    # lets make sure that the output type matches the input type\n",
    "    Ypred = np.zeros(num_test, dtype = self.ytr.dtype)\n",
    "\n",
    "    if T=='L1':\n",
    "        # loop over all test rows\n",
    "        for i in range(num_test):\n",
    "            # find the nearest training image to the i'th test image\n",
    "            # using the L1 distance (sum of absolute value differences)\n",
    "            distances = np.sum(np.abs(self.Xtr - X[i,:]), axis = 1)\n",
    "            min_index = np.argmin(distances) # get the index with smallest distance\n",
    "            Ypred[i] = self.ytr[min_index] # predict the label of the nearest example\n",
    "    elif T=='L2':\n",
    "        # loop over all test rows\n",
    "        for i in range(num_test):\n",
    "            # find the nearest training image to the i'th test image\n",
    "            # using the L1 distance (sum of absolute value differences)\n",
    "            distances = np.sum(np.square(self.Xtr - X[i,:]), axis = 1)\n",
    "            min_index = np.argmin(distances) # get the index with smallest distance\n",
    "            Ypred[i] = self.ytr[min_index] # predict the label of the nearest example\n",
    "    else:\n",
    "        print('Uknown type of distance ', T)\n",
    "        for i in range(num_test):\n",
    "            Ypred[i] = -1\n",
    "\n",
    "    return Ypred"
   ]
  },
  {
   "cell_type": "markdown",
   "metadata": {},
   "source": [
    "Create de classifier object:"
   ]
  },
  {
   "cell_type": "code",
   "execution_count": 6,
   "metadata": {},
   "outputs": [],
   "source": [
    "nn = NearestNeighbor()\n",
    "nn.train(Xtr_rows, Ytr)"
   ]
  },
  {
   "cell_type": "markdown",
   "metadata": {},
   "source": [
    "Predict the first N samples of the test dataset with the **L1 distance**, and check the **accuracy** (which is the average number of examples that are correctly predicted).\n",
    "\n",
    "It takes time..."
   ]
  },
  {
   "cell_type": "code",
   "execution_count": 13,
   "metadata": {},
   "outputs": [
    {
     "name": "stdout",
     "output_type": "stream",
     "text": [
      "accuracy: 0.340000\n"
     ]
    }
   ],
   "source": [
    "N = 100\n",
    "Yte_predict_L1 = nn.predict(Xte_rows[0:N], 'L1')\n",
    "print('accuracy: %f' % ( np.mean(Yte_predict_L1 == Yte[0:N]) ) )"
   ]
  },
  {
   "cell_type": "markdown",
   "metadata": {},
   "source": [
    "Now, predict the same N samples with the **L2 distance**."
   ]
  },
  {
   "cell_type": "code",
   "execution_count": 14,
   "metadata": {},
   "outputs": [
    {
     "name": "stdout",
     "output_type": "stream",
     "text": [
      "accuracy: 0.340000\n"
     ]
    }
   ],
   "source": [
    "N = 100\n",
    "Yte_predict_L2 = nn.predict(Xte_rows[0:N], 'L2')\n",
    "print('accuracy: %f' % ( np.mean(Yte_predict_L1 == Yte[0:N]) ) )"
   ]
  },
  {
   "cell_type": "code",
   "execution_count": null,
   "metadata": {},
   "outputs": [],
   "source": []
  }
 ],
 "metadata": {
  "kernelspec": {
   "display_name": "Python 3",
   "language": "python",
   "name": "python3"
  },
  "language_info": {
   "codemirror_mode": {
    "name": "ipython",
    "version": 3
   },
   "file_extension": ".py",
   "mimetype": "text/x-python",
   "name": "python",
   "nbconvert_exporter": "python",
   "pygments_lexer": "ipython3",
   "version": "3.7.0"
  }
 },
 "nbformat": 4,
 "nbformat_minor": 2
}
