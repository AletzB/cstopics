{
 "cells": [
  {
   "cell_type": "markdown",
   "metadata": {},
   "source": [
    "# Interpolation\n",
    "\n",
    "Interpolation allows you to find or create new points between a set of known points.\n",
    "\n",
    "<img src=\"interpolation.png\">\n",
    "Taken from https://en.wikipedia.org/wiki/Bicubic_interpolation"
   ]
  },
  {
   "cell_type": "markdown",
   "metadata": {},
   "source": [
    "## 1D nearest-neighbour interpolation\n",
    "\n",
    "Having the known points $(x_0,y_0)$ and $(x_1,y_1)$, the value of a new $y$ for a new $x$ between $x_0$ and $x_1$ is:\n",
    "\n",
    "\\begin{align}\n",
    "y=\n",
    "\\begin{cases}\n",
    "    y_0, & \\text{if } abs(x-x_0) <= abs(x-x_1)\\\\\n",
    "    y1, & \\text{otherwise}\n",
    "\\end{cases}\n",
    "\\end{align}\n",
    "\n",
    "Example:\n",
    "\n",
    "<img style=\"width:40%;\" src=\"nearest_1d.png\">\n",
    "\n"
   ]
  },
  {
   "cell_type": "markdown",
   "metadata": {},
   "source": [
    "## 1D linear interpolation"
   ]
  },
  {
   "cell_type": "code",
   "execution_count": null,
   "metadata": {},
   "outputs": [],
   "source": []
  }
 ],
 "metadata": {
  "kernelspec": {
   "display_name": "Python 3",
   "language": "python",
   "name": "python3"
  },
  "language_info": {
   "codemirror_mode": {
    "name": "ipython",
    "version": 3
   },
   "file_extension": ".py",
   "mimetype": "text/x-python",
   "name": "python",
   "nbconvert_exporter": "python",
   "pygments_lexer": "ipython3",
   "version": "3.6.5"
  }
 },
 "nbformat": 4,
 "nbformat_minor": 2
}
