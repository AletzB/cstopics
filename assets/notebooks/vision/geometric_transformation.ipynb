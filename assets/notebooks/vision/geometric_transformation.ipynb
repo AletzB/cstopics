{
 "cells": [
  {
   "cell_type": "markdown",
   "metadata": {},
   "source": [
    "# Interpolation\n",
    "\n",
    "Interpolation allows you to find or create new points between a set of known points.\n",
    "\n",
    "<img src=\"interpolation.png\">\n",
    "Taken from https://en.wikipedia.org/wiki/Bicubic_interpolation"
   ]
  },
  {
   "cell_type": "markdown",
   "metadata": {},
   "source": [
    "## 1D nearest-neighbour interpolation\n",
    "\n",
    "Having the known points $(x_0,y_0)$ and $(x_1,y_1)$, the value of a new $y$ for a new $x$ between $x_0$ and $x_1$ is:\n",
    "\n",
    "\\begin{align}\n",
    "y=\n",
    "\\begin{cases}\n",
    "    y_0, & \\text{if } abs(x-x_0) <= abs(x-x_1)\\\\\n",
    "    y1, & \\text{otherwise}\n",
    "\\end{cases}\n",
    "\\end{align}\n",
    "\n",
    "Example:\n",
    "\n",
    "<img width=\"400\" src=\"nearest_1d.png\">\n",
    "Taken from https://en.wikipedia.org/wiki/Nearest-neighbor_interpolation"
   ]
  },
  {
   "cell_type": "markdown",
   "metadata": {},
   "source": [
    "## 1D linear interpolation\n",
    "\n",
    "Having the known points $(x_0,y_0)$ and $(x_1,y_1)$, the new point $(x,y)$ must be in the straight line between these points.\n",
    "\n",
    "<img width=\"300\" src=\"interpolation_linear1d.png\">\n",
    "Taken from https://en.wikipedia.org/wiki/Linear_interpolation\n",
    "\n",
    "\\begin{align}\n",
    "\\frac{y-y_0}{x-x_0} = \\frac{y_1-y_0}{x_1-x_0}\n",
    "\\end{align}\n",
    "\n",
    "Having $x$ and solving for $y$:\n",
    "\n",
    "\\begin{align}\n",
    "y = y_0 + (x-x_0)\\frac{y_1-y_0}{x_1-x_0}\n",
    "\\end{align}"
   ]
  },
  {
   "cell_type": "markdown",
   "metadata": {},
   "source": [
    "## 1D polinomial interpolation\n",
    "\n",
    "We must construct the model from $n$ pair of points, where $n$ is the order of the interpolation.\n",
    "\n",
    "\\begin{align}\n",
    "p(x) = a_n x^n + a_{n-1} x^{n-1} + \\cdots + a_2 x^2 + a_1 x + a_0. \\qquad\n",
    "\\end{align}\n",
    "\n",
    "You can represent it in its matricial form, in order to solve it (find the coefficients):\n",
    "\n",
    "\\begin{align}\n",
    "\\begin{bmatrix}\n",
    "x_0^n  & x_0^{n-1} & x_0^{n-2} & \\ldots & x_0 & 1 \\\\\n",
    "x_1^n  & x_1^{n-1} & x_1^{n-2} & \\ldots & x_1 & 1 \\\\\n",
    "\\vdots & \\vdots    & \\vdots    &        & \\vdots & \\vdots \\\\\n",
    "x_n^n  & x_n^{n-1} & x_n^{n-2} & \\ldots & x_n & 1\n",
    "\\end{bmatrix}\n",
    "\\begin{bmatrix} a_n \\\\ a_{n-1} \\\\ \\vdots \\\\ a_0 \\end{bmatrix}  =\n",
    "\\begin{bmatrix} y_0 \\\\ y_1 \\\\ \\vdots \\\\ y_n \\end{bmatrix}\n",
    "\\end{align}\n",
    "\n",
    "For example, the red points are known, and the blue line is the interpolation:\n",
    "\n",
    "<img width=\"350\" src=\"interpolation_poli1d.png\">\n",
    "Taken from https://en.wikipedia.org/wiki/Polynomial_interpolation"
   ]
  },
  {
   "cell_type": "markdown",
   "metadata": {},
   "source": [
    "## 2D bilinear interpolation\n",
    "\n",
    "You perform linear interpolation in $x$, and then in $y$.\n",
    "\n",
    "<img width=\"320\" src=\"interpolation_bilinear.png\">\n",
    "\n",
    "\\begin{align}\n",
    "f(R_1) \\approx \\frac{x_2-x}{x_2-x_1} f(Q_{11}) + \\frac{x-x_1}{x_2-x_1} f(Q_{21})\n",
    "\\end{align}\n",
    "\n",
    "\\begin{align}\n",
    "f(R_2) \\approx \\frac{x_2-x}{x_2-x_1} f(Q_{12}) + \\frac{x-x_1}{x_2-x_1} f(Q_{22})\n",
    "\\end{align}\n",
    "\n",
    "\\begin{align}\n",
    "f(P) \\approx \\frac{y_2-y}{y_2-y_1} f(R_1) + \\frac{y-y_1}{y_2-y_1} f(R_2)\n",
    "\\end{align}"
   ]
  },
  {
   "cell_type": "code",
   "execution_count": null,
   "metadata": {},
   "outputs": [],
   "source": []
  }
 ],
 "metadata": {
  "kernelspec": {
   "display_name": "Python 3",
   "language": "python",
   "name": "python3"
  },
  "language_info": {
   "codemirror_mode": {
    "name": "ipython",
    "version": 3
   },
   "file_extension": ".py",
   "mimetype": "text/x-python",
   "name": "python",
   "nbconvert_exporter": "python",
   "pygments_lexer": "ipython3",
   "version": "3.6.5"
  }
 },
 "nbformat": 4,
 "nbformat_minor": 2
}
