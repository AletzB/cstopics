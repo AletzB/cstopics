{
 "cells": [
  {
   "cell_type": "markdown",
   "metadata": {},
   "source": [
    "# Interpolation\n",
    "\n",
    "Interpolation allows you to find or create new points between a set of known points.\n",
    "\n",
    "<img src=\"interpolation.png\">\n",
    "Taken from https://en.wikipedia.org/wiki/Bicubic_interpolation"
   ]
  },
  {
   "cell_type": "markdown",
   "metadata": {},
   "source": [
    "## 1D nearest-neighbour interpolation\n",
    "\n",
    "Having the known points $(x_0,y_0)$ and $(x_1,y_1)$, the value of a new $y$ for a new $x$ between $x_0$ and $x_1$ is:\n",
    "\n",
    "\\begin{align}\n",
    "y=\n",
    "\\begin{cases}\n",
    "    y_0, & \\text{if } abs(x-x_0) <= abs(x-x_1)\\\\\n",
    "    y1, & \\text{otherwise}\n",
    "\\end{cases}\n",
    "\\end{align}\n",
    "\n",
    "Example:\n",
    "\n",
    "<img width=\"400\" src=\"nearest_1d.png\">\n",
    "Taken from https://en.wikipedia.org/wiki/Nearest-neighbor_interpolation"
   ]
  },
  {
   "cell_type": "markdown",
   "metadata": {},
   "source": [
    "## 1D linear interpolation\n",
    "\n",
    "Having the known points $(x_0,y_0)$ and $(x_1,y_1)$, the new point $(x,y)$ must be in the straight line between these points.\n",
    "\n",
    "<img width=\"300\" src=\"interpolation_linear1d.png\">\n",
    "Taken from https://en.wikipedia.org/wiki/Linear_interpolation\n",
    "\n",
    "\\begin{align}\n",
    "\\large\n",
    "\\frac{y-y_0}{x-x_0} = \\frac{y_1-y_0}{x_1-x_0}\n",
    "\\end{align}\n",
    "\n",
    "Having $x$ and solving for $y$:\n",
    "\n",
    "\\begin{align}\n",
    "\\large\n",
    "y = y_0 + (x-x_0)\\frac{y_1-y_0}{x_1-x_0}\n",
    "\\end{align}"
   ]
  },
  {
   "cell_type": "markdown",
   "metadata": {},
   "source": [
    "## 1D polinomial interpolation\n",
    "\n",
    "We must contruct the model from $n$ pair of points, where $n$ is the order of the interpolation."
   ]
  }
 ],
 "metadata": {
  "kernelspec": {
   "display_name": "Python 3",
   "language": "python",
   "name": "python3"
  },
  "language_info": {
   "codemirror_mode": {
    "name": "ipython",
    "version": 3
   },
   "file_extension": ".py",
   "mimetype": "text/x-python",
   "name": "python",
   "nbconvert_exporter": "python",
   "pygments_lexer": "ipython3",
   "version": "3.6.5"
  }
 },
 "nbformat": 4,
 "nbformat_minor": 2
}
