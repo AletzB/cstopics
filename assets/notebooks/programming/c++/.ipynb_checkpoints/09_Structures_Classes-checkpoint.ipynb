{
 "cells": [
  {
   "cell_type": "markdown",
   "metadata": {},
   "source": [
    "This is a *Jupyter Notebook*. You can download it and execute it in your computer, if you install *jupyter* and other requirements. Even so, it is better that you create a program with the [basic structure](https://cstopics.github.io/cstopics/programming/c-c++/1_basic_structure), and test all the code lines there."
   ]
  },
  {
   "cell_type": "markdown",
   "metadata": {},
   "source": [
    "# Classes & Structures"
   ]
  },
  {
   "cell_type": "code",
   "execution_count": 2,
   "metadata": {},
   "outputs": [],
   "source": [
    "#include <iostream>"
   ]
  },
  {
   "cell_type": "markdown",
   "metadata": {},
   "source": [
    "## Structures\n",
    "Structures groups data of basic types, or other structures. Consider the following example:"
   ]
  },
  {
   "cell_type": "code",
   "execution_count": 3,
   "metadata": {},
   "outputs": [],
   "source": [
    "struct Struct1 {\n",
    "    int x=0;\n",
    "    double y=1.0, z=2.2;\n",
    "};"
   ]
  },
  {
   "cell_type": "markdown",
   "metadata": {},
   "source": [
    "After you create a struct, you can treat it as a data type, creating new variables:"
   ]
  },
  {
   "cell_type": "code",
   "execution_count": 4,
   "metadata": {},
   "outputs": [],
   "source": [
    "Struct1 var1;"
   ]
  },
  {
   "cell_type": "markdown",
   "metadata": {},
   "source": [
    "By deafult, all the members (*x*, *y* and *z* in the example) are public, that means that they can be accessed directly from the variable:"
   ]
  },
  {
   "cell_type": "code",
   "execution_count": 5,
   "metadata": {},
   "outputs": [
    {
     "name": "stdout",
     "output_type": "stream",
     "text": [
      "var1.y=1\n",
      "var1.x=21\n"
     ]
    }
   ],
   "source": [
    "std::cout << \"var1.y=\" << var1.y << std::endl;\n",
    "var1.x += 21;\n",
    "std::cout << \"var1.x=\" << var1.x << std::endl;"
   ]
  },
  {
   "cell_type": "markdown",
   "metadata": {},
   "source": [
    "## Classes\n",
    "\n",
    "In C++, structures and classes are almost the same thing. In a structure you can create private variables, functio member, and more. But in general, when we want to create that elements in a structure, we actually use classes instead.\n",
    "\n",
    "### Data members\n",
    "\n",
    "The first difference is that, by default, members in a class are private, and if you want to create public members, you have to specify that explicitly:"
   ]
  },
  {
   "cell_type": "code",
   "execution_count": 6,
   "metadata": {},
   "outputs": [],
   "source": [
    "class Class1 {\n",
    "  // private by default\n",
    "  float a = 2;\n",
    "public:\n",
    "  // public members\n",
    "  int x = 4;\n",
    "};"
   ]
  },
  {
   "cell_type": "markdown",
   "metadata": {},
   "source": [
    "You use classes as data types, similar to structures, buy the variables created from classes are called *objects*:"
   ]
  },
  {
   "cell_type": "code",
   "execution_count": 7,
   "metadata": {},
   "outputs": [],
   "source": [
    "Class1 obj1;"
   ]
  },
  {
   "cell_type": "markdown",
   "metadata": {},
   "source": [
    "You can access public members of an object:"
   ]
  },
  {
   "cell_type": "code",
   "execution_count": 8,
   "metadata": {},
   "outputs": [
    {
     "name": "stdout",
     "output_type": "stream",
     "text": [
      "obj1.x=4\n"
     ]
    }
   ],
   "source": [
    "std::cout << \"obj1.x=\" << obj1.x << std::endl;"
   ]
  },
  {
   "cell_type": "markdown",
   "metadata": {},
   "source": [
    "But you can not access private members:"
   ]
  },
  {
   "cell_type": "code",
   "execution_count": 9,
   "metadata": {},
   "outputs": [
    {
     "name": "stderr",
     "output_type": "stream",
     "text": [
      "input_line_15:2:33: error: 'a' is a private member of 'Class1'\n",
      " std::cout << \"obj1.a=\" << obj1.a << std::endl;\n",
      "                                ^\n",
      "input_line_12:3:9: note: implicitly declared private here\n",
      "  float a = 2;\n",
      "        ^\n"
     ]
    },
    {
     "ename": "Interpreter Error",
     "evalue": "",
     "output_type": "error",
     "traceback": [
      "Interpreter Error: "
     ]
    }
   ],
   "source": [
    "std::cout << \"obj1.a=\" << obj1.a << std::endl;"
   ]
  },
  {
   "cell_type": "markdown",
   "metadata": {},
   "source": [
    "### Function members\n",
    "\n",
    "You can create public function members inside your classes, in order to process the public or private members:"
   ]
  },
  {
   "cell_type": "code",
   "execution_count": 10,
   "metadata": {},
   "outputs": [],
   "source": [
    "class Class2 {\n",
    "    float a = 2;\n",
    "public:\n",
    "    int x = 4;\n",
    "    int get_a(){\n",
    "        return a;\n",
    "    }\n",
    "    void set_a(int _a){\n",
    "        a = _a;\n",
    "    }\n",
    "    void a_plus_1_to_x(){\n",
    "        x = a+1;\n",
    "    }\n",
    "};"
   ]
  },
  {
   "cell_type": "code",
   "execution_count": 11,
   "metadata": {},
   "outputs": [],
   "source": [
    "Class2 obj2;"
   ]
  },
  {
   "cell_type": "code",
   "execution_count": 12,
   "metadata": {},
   "outputs": [
    {
     "name": "stdout",
     "output_type": "stream",
     "text": [
      "obj2.a=2\n",
      "obj2.a=12\n",
      "obj2.x=13\n"
     ]
    }
   ],
   "source": [
    "std::cout << \"obj2.a=\" << obj2.get_a() << std::endl;\n",
    "obj2.set_a(12);\n",
    "std::cout << \"obj2.a=\" << obj2.get_a() << std::endl;\n",
    "obj2.a_plus_1_to_x();\n",
    "std::cout << \"obj2.x=\" << obj2.x << std::endl;"
   ]
  },
  {
   "cell_type": "markdown",
   "metadata": {},
   "source": [
    "But if you create private function member, you only will be able to call them from public function members:"
   ]
  },
  {
   "cell_type": "code",
   "execution_count": 13,
   "metadata": {},
   "outputs": [],
   "source": [
    "class Class3 {\n",
    "    float a = 2;\n",
    "    void inc_a(){\n",
    "        a++;\n",
    "    }\n",
    "public:\n",
    "    int get_a(){\n",
    "        return a;\n",
    "    }\n",
    "    void process_a(){\n",
    "        inc_a();\n",
    "    }\n",
    "};"
   ]
  },
  {
   "cell_type": "code",
   "execution_count": 14,
   "metadata": {},
   "outputs": [],
   "source": [
    "Class3 obj3;"
   ]
  },
  {
   "cell_type": "code",
   "execution_count": 15,
   "metadata": {},
   "outputs": [
    {
     "name": "stderr",
     "output_type": "stream",
     "text": [
      "input_line_21:2:7: error: 'inc_a' is a private member of 'Class3'\n",
      " obj3.inc_a();\n",
      "      ^\n",
      "input_line_19:3:10: note: implicitly declared private here\n",
      "    void inc_a(){\n",
      "         ^\n"
     ]
    },
    {
     "ename": "Interpreter Error",
     "evalue": "",
     "output_type": "error",
     "traceback": [
      "Interpreter Error: "
     ]
    }
   ],
   "source": [
    "obj3.inc_a();"
   ]
  },
  {
   "cell_type": "code",
   "execution_count": 16,
   "metadata": {},
   "outputs": [
    {
     "name": "stdout",
     "output_type": "stream",
     "text": [
      "obj3.a=3\n"
     ]
    }
   ],
   "source": [
    "obj3.process_a();\n",
    "std::cout << \"obj3.a=\" << obj3.get_a() << std::endl;"
   ]
  },
  {
   "cell_type": "markdown",
   "metadata": {},
   "source": [
    "## Memory Alignment"
   ]
  },
  {
   "cell_type": "code",
   "execution_count": null,
   "metadata": {},
   "outputs": [],
   "source": []
  }
 ],
 "metadata": {
  "kernelspec": {
   "display_name": "C++14",
   "language": "C++14",
   "name": "xeus-cling-cpp14"
  },
  "language_info": {
   "codemirror_mode": "text/x-c++src",
   "file_extension": ".cpp",
   "mimetype": "text/x-c++src",
   "name": "c++",
   "version": "-std=c++14"
  }
 },
 "nbformat": 4,
 "nbformat_minor": 2
}
