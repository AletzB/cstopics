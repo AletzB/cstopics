{
 "cells": [
  {
   "cell_type": "markdown",
   "metadata": {},
   "source": [
    "This is a *Jupyter Notebook*. You can download it and execute it in your computer, if you install *jupyter* and other requirements. Even so, it is better that you create a program with the [basic structure](), and test all the code lines there."
   ]
  },
  {
   "cell_type": "markdown",
   "metadata": {},
   "source": [
    "# Pointers and Memory Management - Part 1"
   ]
  },
  {
   "cell_type": "code",
   "execution_count": 1,
   "metadata": {},
   "outputs": [],
   "source": [
    "#include <iostream>"
   ]
  },
  {
   "cell_type": "markdown",
   "metadata": {},
   "source": [
    "Having a variable of any type:"
   ]
  },
  {
   "cell_type": "code",
   "execution_count": 2,
   "metadata": {},
   "outputs": [
    {
     "name": "stdout",
     "output_type": "stream",
     "text": [
      "x=24\n"
     ]
    }
   ],
   "source": [
    "int x = 24;\n",
    "std::cout << \"x=\" << x << std::endl;"
   ]
  },
  {
   "cell_type": "markdown",
   "metadata": {},
   "source": [
    "You can know the memory address when your system allocated that variable, adding the character *&* before the variable's name:"
   ]
  },
  {
   "cell_type": "code",
   "execution_count": 3,
   "metadata": {},
   "outputs": [
    {
     "name": "stdout",
     "output_type": "stream",
     "text": [
      "&x=0x7fd52aac1024\n"
     ]
    }
   ],
   "source": [
    "std::cout << \"&x=\" << &x << std::endl;"
   ]
  },
  {
   "cell_type": "markdown",
   "metadata": {},
   "source": [
    "You can create a type of variable, called *pointer*, that stores the address of any data of the type pointed. That type of variables are created adding the character * before the name of the pointer:"
   ]
  },
  {
   "cell_type": "code",
   "execution_count": 4,
   "metadata": {},
   "outputs": [
    {
     "name": "stdout",
     "output_type": "stream",
     "text": [
      "px=0x7fd52aac1024\n"
     ]
    }
   ],
   "source": [
    "int *px = &x;\n",
    "std::cout << \"px=\" << px << std::endl;"
   ]
  },
  {
   "cell_type": "markdown",
   "metadata": {},
   "source": [
    "You can access the data *addressed* by the pointer, using the * character before the name:"
   ]
  },
  {
   "cell_type": "code",
   "execution_count": 5,
   "metadata": {},
   "outputs": [
    {
     "name": "stdout",
     "output_type": "stream",
     "text": [
      "*px=35\n"
     ]
    }
   ],
   "source": [
    "*px += 11;\n",
    "std::cout << \"*px=\" << *px << std::endl;"
   ]
  },
  {
   "cell_type": "markdown",
   "metadata": {},
   "source": [
    "And you can overwrite the value of the pointer:"
   ]
  },
  {
   "cell_type": "code",
   "execution_count": 6,
   "metadata": {},
   "outputs": [
    {
     "name": "stdout",
     "output_type": "stream",
     "text": [
      "y=102\n",
      "&y=0x7fd52aac1030\n",
      "px=0x7fd52aac1030\n",
      "*px=102\n"
     ]
    }
   ],
   "source": [
    "int y = 102;\n",
    "std::cout << \"y=\" << y << std::endl;\n",
    "std::cout << \"&y=\" << &y << std::endl;\n",
    "px = &y;\n",
    "std::cout << \"px=\" << px << std::endl;\n",
    "std::cout << \"*px=\" << *px << std::endl;"
   ]
  },
  {
   "cell_type": "code",
   "execution_count": null,
   "metadata": {},
   "outputs": [],
   "source": []
  }
 ],
 "metadata": {
  "kernelspec": {
   "display_name": "C++14",
   "language": "C++14",
   "name": "xeus-cling-cpp14"
  },
  "language_info": {
   "codemirror_mode": "text/x-c++src",
   "file_extension": ".cpp",
   "mimetype": "text/x-c++src",
   "name": "c++",
   "version": "-std=c++14"
  }
 },
 "nbformat": 4,
 "nbformat_minor": 2
}
